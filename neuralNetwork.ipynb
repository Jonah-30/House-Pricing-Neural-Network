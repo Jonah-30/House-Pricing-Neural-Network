{
  "nbformat": 4,
  "nbformat_minor": 0,
  "metadata": {
    "colab": {
      "name": "neuralNetwork.ipynb",
      "provenance": [],
      "collapsed_sections": [],
      "mount_file_id": "1mVHNG7VOHKayKB6CJoe7dau2XbJblC7G",
      "authorship_tag": "ABX9TyOsWmtIxcLHq5FCYg3TivRo",
      "include_colab_link": true
    },
    "kernelspec": {
      "name": "python3",
      "display_name": "Python 3"
    },
    "language_info": {
      "name": "python"
    }
  },
  "cells": [
    {
      "cell_type": "markdown",
      "metadata": {
        "id": "view-in-github",
        "colab_type": "text"
      },
      "source": [
        "<a href=\"https://colab.research.google.com/github/Jonah-30/House-Pricing-Neural-Network/blob/main/neuralNetwork.ipynb\" target=\"_parent\"><img src=\"https://colab.research.google.com/assets/colab-badge.svg\" alt=\"Open In Colab\"/></a>"
      ]
    },
    {
      "cell_type": "markdown",
      "metadata": {
        "id": "7C3WreE4ss2u"
      },
      "source": [
        "Import packages and datasets."
      ]
    },
    {
      "cell_type": "code",
      "metadata": {
        "colab": {
          "base_uri": "https://localhost:8080/",
          "height": 238
        },
        "id": "9G58yDj6dK5N",
        "outputId": "346697e2-5554-4e70-c75c-fd829095591e"
      },
      "source": [
        "import pandas as pd\n",
        "import keras\n",
        "import numpy as np\n",
        "from google.colab import drive\n",
        "drive.mount('/content/drive')\n",
        "\n",
        "dataset = pd.read_csv('/content/drive/MyDrive/Colab Notebooks/House Pricing Neural Network/HousingPrices.csv')\n",
        "print(dataset.shape)\n",
        "dataset.head()"
      ],
      "execution_count": 3,
      "outputs": [
        {
          "output_type": "stream",
          "text": [
            "Drive already mounted at /content/drive; to attempt to forcibly remount, call drive.mount(\"/content/drive\", force_remount=True).\n",
            "(1460, 9)\n"
          ],
          "name": "stdout"
        },
        {
          "output_type": "execute_result",
          "data": {
            "text/html": [
              "<div>\n",
              "<style scoped>\n",
              "    .dataframe tbody tr th:only-of-type {\n",
              "        vertical-align: middle;\n",
              "    }\n",
              "\n",
              "    .dataframe tbody tr th {\n",
              "        vertical-align: top;\n",
              "    }\n",
              "\n",
              "    .dataframe thead th {\n",
              "        text-align: right;\n",
              "    }\n",
              "</style>\n",
              "<table border=\"1\" class=\"dataframe\">\n",
              "  <thead>\n",
              "    <tr style=\"text-align: right;\">\n",
              "      <th></th>\n",
              "      <th>YearBuilt</th>\n",
              "      <th>2ndFlrSF</th>\n",
              "      <th>GrLivArea</th>\n",
              "      <th>FullBath</th>\n",
              "      <th>HalfBath</th>\n",
              "      <th>BedroomAbvGr</th>\n",
              "      <th>TotRmsAbvGrd</th>\n",
              "      <th>YrSold</th>\n",
              "      <th>SalePrice</th>\n",
              "    </tr>\n",
              "  </thead>\n",
              "  <tbody>\n",
              "    <tr>\n",
              "      <th>0</th>\n",
              "      <td>2003</td>\n",
              "      <td>854</td>\n",
              "      <td>1710</td>\n",
              "      <td>2</td>\n",
              "      <td>1</td>\n",
              "      <td>3</td>\n",
              "      <td>8</td>\n",
              "      <td>2008</td>\n",
              "      <td>208500</td>\n",
              "    </tr>\n",
              "    <tr>\n",
              "      <th>1</th>\n",
              "      <td>1976</td>\n",
              "      <td>0</td>\n",
              "      <td>1262</td>\n",
              "      <td>2</td>\n",
              "      <td>0</td>\n",
              "      <td>3</td>\n",
              "      <td>6</td>\n",
              "      <td>2007</td>\n",
              "      <td>181500</td>\n",
              "    </tr>\n",
              "    <tr>\n",
              "      <th>2</th>\n",
              "      <td>2001</td>\n",
              "      <td>866</td>\n",
              "      <td>1786</td>\n",
              "      <td>2</td>\n",
              "      <td>1</td>\n",
              "      <td>3</td>\n",
              "      <td>6</td>\n",
              "      <td>2008</td>\n",
              "      <td>223500</td>\n",
              "    </tr>\n",
              "    <tr>\n",
              "      <th>3</th>\n",
              "      <td>1915</td>\n",
              "      <td>756</td>\n",
              "      <td>1717</td>\n",
              "      <td>1</td>\n",
              "      <td>0</td>\n",
              "      <td>3</td>\n",
              "      <td>7</td>\n",
              "      <td>2006</td>\n",
              "      <td>140000</td>\n",
              "    </tr>\n",
              "    <tr>\n",
              "      <th>4</th>\n",
              "      <td>2000</td>\n",
              "      <td>1053</td>\n",
              "      <td>2198</td>\n",
              "      <td>2</td>\n",
              "      <td>1</td>\n",
              "      <td>4</td>\n",
              "      <td>9</td>\n",
              "      <td>2008</td>\n",
              "      <td>250000</td>\n",
              "    </tr>\n",
              "  </tbody>\n",
              "</table>\n",
              "</div>"
            ],
            "text/plain": [
              "   YearBuilt  2ndFlrSF  GrLivArea  ...  TotRmsAbvGrd  YrSold  SalePrice\n",
              "0       2003       854       1710  ...             8    2008     208500\n",
              "1       1976         0       1262  ...             6    2007     181500\n",
              "2       2001       866       1786  ...             6    2008     223500\n",
              "3       1915       756       1717  ...             7    2006     140000\n",
              "4       2000      1053       2198  ...             9    2008     250000\n",
              "\n",
              "[5 rows x 9 columns]"
            ]
          },
          "metadata": {
            "tags": []
          },
          "execution_count": 3
        }
      ]
    },
    {
      "cell_type": "markdown",
      "metadata": {
        "id": "jIxD1ZV2kEB2"
      },
      "source": [
        "Seperate the inputs and outputs in the data."
      ]
    },
    {
      "cell_type": "code",
      "metadata": {
        "id": "pfAmsRrfddYG"
      },
      "source": [
        "x = dataset.drop(columns=[\"SalePrice\"])\n",
        "x = x.loc[5:1460]\n",
        "y = dataset.loc[5:1460,[\"SalePrice\"]]"
      ],
      "execution_count": 5,
      "outputs": []
    },
    {
      "cell_type": "markdown",
      "metadata": {
        "id": "ni1tDPiXw416"
      },
      "source": [
        "Initialize the nueral network."
      ]
    },
    {
      "cell_type": "code",
      "metadata": {
        "id": "BvQqG1DAkbpE"
      },
      "source": [
        "model = keras.models.Sequential()"
      ],
      "execution_count": 6,
      "outputs": []
    },
    {
      "cell_type": "markdown",
      "metadata": {
        "id": "qztStRzdkTtT"
      },
      "source": [
        "Structure the neural network and set the neurons."
      ]
    },
    {
      "cell_type": "code",
      "metadata": {
        "id": "NLoCVGgnkUDK"
      },
      "source": [
        "model.add(keras.layers.Dense(8, activation='relu', input_shape=(8,)))\n",
        "model.add(keras.layers.Dense(8, activation='relu'))\n",
        "model.add(keras.layers.Dense(1))"
      ],
      "execution_count": 7,
      "outputs": []
    },
    {
      "cell_type": "markdown",
      "metadata": {
        "id": "7q6hUv_8kzgt"
      },
      "source": [
        "Set up the back-propagation."
      ]
    },
    {
      "cell_type": "code",
      "metadata": {
        "id": "8TaE4-dHky-z"
      },
      "source": [
        "model.compile(optimizer='adam', loss='mean_squared_error')"
      ],
      "execution_count": 8,
      "outputs": []
    },
    {
      "cell_type": "markdown",
      "metadata": {
        "id": "Soto1xl5k2K5"
      },
      "source": [
        "Train the neural network."
      ]
    },
    {
      "cell_type": "code",
      "metadata": {
        "colab": {
          "base_uri": "https://localhost:8080/"
        },
        "id": "EZnyKzV1k4gO",
        "outputId": "e5360842-6a91-41b0-84ad-d82d1a968dcb"
      },
      "source": [
        "model.fit(x, y, epochs=30, callbacks=[keras.callbacks.EarlyStopping(patience=3)])"
      ],
      "execution_count": 9,
      "outputs": [
        {
          "output_type": "stream",
          "text": [
            "Epoch 1/30\n",
            "46/46 [==============================] - 1s 1ms/step - loss: 37729401224.1702\n",
            "WARNING:tensorflow:Early stopping conditioned on metric `val_loss` which is not available. Available metrics are: loss\n",
            "Epoch 2/30\n",
            "46/46 [==============================] - 0s 1ms/step - loss: 38285816461.6170\n",
            "WARNING:tensorflow:Early stopping conditioned on metric `val_loss` which is not available. Available metrics are: loss\n",
            "Epoch 3/30\n",
            "46/46 [==============================] - 0s 997us/step - loss: 36184300217.1915\n",
            "WARNING:tensorflow:Early stopping conditioned on metric `val_loss` which is not available. Available metrics are: loss\n",
            "Epoch 4/30\n",
            "46/46 [==============================] - 0s 1ms/step - loss: 35702043931.2340\n",
            "WARNING:tensorflow:Early stopping conditioned on metric `val_loss` which is not available. Available metrics are: loss\n",
            "Epoch 5/30\n",
            "46/46 [==============================] - 0s 1ms/step - loss: 35370258867.7447\n",
            "WARNING:tensorflow:Early stopping conditioned on metric `val_loss` which is not available. Available metrics are: loss\n",
            "Epoch 6/30\n",
            "46/46 [==============================] - 0s 1ms/step - loss: 33823461114.5532\n",
            "WARNING:tensorflow:Early stopping conditioned on metric `val_loss` which is not available. Available metrics are: loss\n",
            "Epoch 7/30\n",
            "46/46 [==============================] - 0s 1ms/step - loss: 31495533066.8936\n",
            "WARNING:tensorflow:Early stopping conditioned on metric `val_loss` which is not available. Available metrics are: loss\n",
            "Epoch 8/30\n",
            "46/46 [==============================] - 0s 973us/step - loss: 28459041073.0213\n",
            "WARNING:tensorflow:Early stopping conditioned on metric `val_loss` which is not available. Available metrics are: loss\n",
            "Epoch 9/30\n",
            "46/46 [==============================] - 0s 934us/step - loss: 23101404486.8085\n",
            "WARNING:tensorflow:Early stopping conditioned on metric `val_loss` which is not available. Available metrics are: loss\n",
            "Epoch 10/30\n",
            "46/46 [==============================] - 0s 920us/step - loss: 19064694370.0426\n",
            "WARNING:tensorflow:Early stopping conditioned on metric `val_loss` which is not available. Available metrics are: loss\n",
            "Epoch 11/30\n",
            "46/46 [==============================] - 0s 1ms/step - loss: 14469398593.3617\n",
            "WARNING:tensorflow:Early stopping conditioned on metric `val_loss` which is not available. Available metrics are: loss\n",
            "Epoch 12/30\n",
            "46/46 [==============================] - 0s 1ms/step - loss: 10921556349.2766\n",
            "WARNING:tensorflow:Early stopping conditioned on metric `val_loss` which is not available. Available metrics are: loss\n",
            "Epoch 13/30\n",
            "46/46 [==============================] - 0s 938us/step - loss: 8316806144.0000\n",
            "WARNING:tensorflow:Early stopping conditioned on metric `val_loss` which is not available. Available metrics are: loss\n",
            "Epoch 14/30\n",
            "46/46 [==============================] - 0s 1ms/step - loss: 6767750111.3191\n",
            "WARNING:tensorflow:Early stopping conditioned on metric `val_loss` which is not available. Available metrics are: loss\n",
            "Epoch 15/30\n",
            "46/46 [==============================] - 0s 942us/step - loss: 6296967734.4681\n",
            "WARNING:tensorflow:Early stopping conditioned on metric `val_loss` which is not available. Available metrics are: loss\n",
            "Epoch 16/30\n",
            "46/46 [==============================] - 0s 926us/step - loss: 4470282299.9149\n",
            "WARNING:tensorflow:Early stopping conditioned on metric `val_loss` which is not available. Available metrics are: loss\n",
            "Epoch 17/30\n",
            "46/46 [==============================] - 0s 930us/step - loss: 4297748180.4255\n",
            "WARNING:tensorflow:Early stopping conditioned on metric `val_loss` which is not available. Available metrics are: loss\n",
            "Epoch 18/30\n",
            "46/46 [==============================] - 0s 955us/step - loss: 4526192384.0000\n",
            "WARNING:tensorflow:Early stopping conditioned on metric `val_loss` which is not available. Available metrics are: loss\n",
            "Epoch 19/30\n",
            "46/46 [==============================] - 0s 1ms/step - loss: 4198506604.9362\n",
            "WARNING:tensorflow:Early stopping conditioned on metric `val_loss` which is not available. Available metrics are: loss\n",
            "Epoch 20/30\n",
            "46/46 [==============================] - 0s 935us/step - loss: 4338006626.0426\n",
            "WARNING:tensorflow:Early stopping conditioned on metric `val_loss` which is not available. Available metrics are: loss\n",
            "Epoch 21/30\n",
            "46/46 [==============================] - 0s 1ms/step - loss: 4243045038.2979\n",
            "WARNING:tensorflow:Early stopping conditioned on metric `val_loss` which is not available. Available metrics are: loss\n",
            "Epoch 22/30\n",
            "46/46 [==============================] - 0s 953us/step - loss: 4707130422.4681\n",
            "WARNING:tensorflow:Early stopping conditioned on metric `val_loss` which is not available. Available metrics are: loss\n",
            "Epoch 23/30\n",
            "46/46 [==============================] - 0s 1ms/step - loss: 4429453502.6383\n",
            "WARNING:tensorflow:Early stopping conditioned on metric `val_loss` which is not available. Available metrics are: loss\n",
            "Epoch 24/30\n",
            "46/46 [==============================] - 0s 1ms/step - loss: 4088364979.7447\n",
            "WARNING:tensorflow:Early stopping conditioned on metric `val_loss` which is not available. Available metrics are: loss\n",
            "Epoch 25/30\n",
            "46/46 [==============================] - 0s 1ms/step - loss: 4241818482.3830\n",
            "WARNING:tensorflow:Early stopping conditioned on metric `val_loss` which is not available. Available metrics are: loss\n",
            "Epoch 26/30\n",
            "46/46 [==============================] - 0s 1ms/step - loss: 4241265805.6170\n",
            "WARNING:tensorflow:Early stopping conditioned on metric `val_loss` which is not available. Available metrics are: loss\n",
            "Epoch 27/30\n",
            "46/46 [==============================] - 0s 1ms/step - loss: 3976000076.2553\n",
            "WARNING:tensorflow:Early stopping conditioned on metric `val_loss` which is not available. Available metrics are: loss\n",
            "Epoch 28/30\n",
            "46/46 [==============================] - 0s 970us/step - loss: 4629882335.3191\n",
            "WARNING:tensorflow:Early stopping conditioned on metric `val_loss` which is not available. Available metrics are: loss\n",
            "Epoch 29/30\n",
            "46/46 [==============================] - 0s 1ms/step - loss: 4089136503.8298\n",
            "WARNING:tensorflow:Early stopping conditioned on metric `val_loss` which is not available. Available metrics are: loss\n",
            "Epoch 30/30\n",
            "46/46 [==============================] - 0s 959us/step - loss: 4596537196.9362\n",
            "WARNING:tensorflow:Early stopping conditioned on metric `val_loss` which is not available. Available metrics are: loss\n"
          ],
          "name": "stdout"
        },
        {
          "output_type": "execute_result",
          "data": {
            "text/plain": [
              "<tensorflow.python.keras.callbacks.History at 0x7fd4ba7fe7d0>"
            ]
          },
          "metadata": {
            "tags": []
          },
          "execution_count": 9
        }
      ]
    },
    {
      "cell_type": "markdown",
      "metadata": {
        "id": "4BxZEJS_0stX"
      },
      "source": [
        "Save the model."
      ]
    },
    {
      "cell_type": "code",
      "metadata": {
        "colab": {
          "base_uri": "https://localhost:8080/"
        },
        "id": "Cc36uOlw0ud9",
        "outputId": "64772650-fa27-48ff-e1de-109cccce164f"
      },
      "source": [
        "model.save('house_pricing_net.model')\n",
        "new_model = keras.models.load_model('house_pricing_net.model')"
      ],
      "execution_count": 11,
      "outputs": [
        {
          "output_type": "stream",
          "text": [
            "INFO:tensorflow:Assets written to: house_pricing_net.model/assets\n"
          ],
          "name": "stdout"
        }
      ]
    },
    {
      "cell_type": "markdown",
      "metadata": {
        "id": "inlpaBbQlIZq"
      },
      "source": [
        "Use the trained neural network on the test data."
      ]
    },
    {
      "cell_type": "code",
      "metadata": {
        "colab": {
          "base_uri": "https://localhost:8080/"
        },
        "id": "454yBZ9qlJJq",
        "outputId": "43888564-177e-43ea-dddd-ec4f24d9854f"
      },
      "source": [
        "test_x= np.array([[2003,\t854, 1710,\t2, 1, 3, 8, 2008], \n",
        "                  [1976,\t0, 1262,\t2, 0, 3, 6, 2007],\n",
        "                  [2001,\t866, 1786,\t2, 1, 3, 6, 2008],\n",
        "                  [1915,\t756, 1717,\t1, 0, 3, 7, 2006],\n",
        "                  [2000,\t1053, 2198,\t2, 1, 4, 9, 2008]])\n",
        "test_y = np.array([208500, 181500, 223500, 140000, 250000])\n",
        "print('Model Estimates')\n",
        "print(model.predict(test_x.reshape(5, 8), batch_size=5))\n",
        "print('Actual Sales Prices')\n",
        "print(test_y)"
      ],
      "execution_count": 12,
      "outputs": [
        {
          "output_type": "stream",
          "text": [
            "Model Estimates\n",
            "[[204668.61]\n",
            " [166091.03]\n",
            " [207622.98]\n",
            " [199241.47]\n",
            " [227451.  ]]\n",
            "Actual Sales Prices\n",
            "[208500 181500 223500 140000 250000]\n"
          ],
          "name": "stdout"
        }
      ]
    }
  ]
}